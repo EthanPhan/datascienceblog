{
 "cells": [
  {
   "cell_type": "markdown",
   "metadata": {},
   "source": [
    "## Introduction\n",
    "\n",
    "![janusgraph](https://res.cloudinary.com/dyyck73ly/image/upload/v1510256527/qbms30vhnxr6bidajpp0.png)\n",
    "\n",
    "*The following introduction is from the official janusgrah website*\n",
    "\n",
    "JanusGraph can be queried from all languages for which a TinkerPop driver exists. Drivers allow sending of Gremlin traversals to a Gremlin Server like the [JanusGraph Server](https://docs.janusgraph.org/basics/server/). A list of TinkerPop drivers is available on [TinkerPop’s homepage](https://tinkerpop.apache.org/#language-drivers).\n",
    "\n",
    "In addition to drivers, there exist [query languages for TinkerPop](https://tinkerpop.apache.org/#language-variants-compilers) that make it easier to use Gremlin in different programming languages like Java, Python, or C#. Some of these languages even construct Gremlin traversals from completely different query languages like Cypher or SPARQL. Since JanusGraph implements TinkerPop, all of these languages can be used together with JanusGraph.\n",
    "\n",
    "<!-- TEASER_END -->"
   ]
  },
  {
   "cell_type": "markdown",
   "metadata": {},
   "source": [
    "## Install JanusGraph\n",
    "\n",
    "We will install JanusGraph and configure it to use [Cassandra](http://cassandra.apache.org) as data storage backend while using [Elasticsearch](https://www.elastic.co) for searching and indexing. For development purpose we can use local instances of Canssandra and Elasticsearch which conveniently come with the installing package of JanusGraph. In production phase, we will re-configure JanusGraph to use production servers of Cassandra and Elasticsearch.\n",
    "\n",
    "First, we need to download JanusGraph from its [relases page](https://github.com/JanusGraph/janusgraph/releases). We will use the newest version at the time of this writing - 0.4.0."
   ]
  },
  {
   "cell_type": "code",
   "execution_count": 2,
   "metadata": {},
   "outputs": [
    {
     "name": "stdout",
     "output_type": "stream",
     "text": [
      "  % Total    % Received % Xferd  Average Speed   Time    Time     Time  Current\n",
      "                                 Dload  Upload   Total   Spent    Left  Speed\n",
      "100   618    0   618    0     0    378      0 --:--:--  0:00:01 --:--:--   378\n",
      "  0  274M    0 1733k    0     0  47128      0  1:41:57  0:00:37  1:41:20 230780:00:14  1:16:03 63545^C\n"
     ]
    }
   ],
   "source": [
    "!curl -L -O https://github.com/JanusGraph/janusgraph/releases/download/v0.4.0/janusgraph-0.4.0-hadoop2.zip"
   ]
  },
  {
   "cell_type": "markdown",
   "metadata": {},
   "source": [
    "Unzip the downloaded package and move in to the unzipped directory"
   ]
  },
  {
   "cell_type": "code",
   "execution_count": null,
   "metadata": {},
   "outputs": [],
   "source": [
    "import os\n",
    "\n",
    "!unzip janusgraph-0.4.0-hadoop2.zip\n",
    "os.chdir('janusgraph-0.4.0-hadoop2/')\n",
    "!ls"
   ]
  },
  {
   "cell_type": "markdown",
   "metadata": {},
   "source": [
    "We are almost ready to start the JanusGraph. We need to change the configuration file for the JanusGraph.\n",
    "\n",
    "We will back up the original configuration file and replace it with a new one."
   ]
  },
  {
   "cell_type": "code",
   "execution_count": 5,
   "metadata": {},
   "outputs": [],
   "source": [
    "!cp conf/gremlin-server/gremlin-server.yaml conf/gremlin-server/gremlin-server.yaml.orig\n",
    "!cp conf/gremlin-server/gremlin-server-configuration.yaml conf/gremlin-server/gremlin-server.yaml"
   ]
  },
  {
   "cell_type": "markdown",
   "metadata": {},
   "source": [
    "Now we can start JanusGraph"
   ]
  },
  {
   "cell_type": "code",
   "execution_count": 7,
   "metadata": {},
   "outputs": [
    {
     "name": "stdout",
     "output_type": "stream",
     "text": [
      "Forking Cassandra...\n",
      "Running `nodetool statusthrift`.. OK (returned exit status 0 and printed string \"running\").\n",
      "Forking Elasticsearch...\n",
      "Connecting to Elasticsearch (127.0.0.1:9200)..... OK (connected to 127.0.0.1:9200).\n",
      "Forking Gremlin-Server...\n",
      "Connecting to Gremlin-Server (127.0.0.1:8182)...... OK (connected to 127.0.0.1:8182).\n",
      "Run gremlin.sh to connect.\n"
     ]
    }
   ],
   "source": [
    "!bin/janusgraph.sh start"
   ]
  },
  {
   "cell_type": "markdown",
   "metadata": {},
   "source": [
    "As we can see, JanusGraph will automatically start Cassandra and Elasticsearch for us, we barely did anything on this part.\n",
    "\n",
    "Some usefull commands with `janusgraph.sh` script:\n",
    "- `janusgraph.sh start`: Start JanusGraph.\n",
    "- `janusgraph.sh stop`: Stop JanusGraph.\n",
    "- `janusgraph.sh clean`: Clean everything in the storage and search engine, give us a fresh start.\n",
    "\n",
    "To interact with JanusGraph server, or gremlin server to be exact, we can use gremlin console, python package `gremlinpython` or other clients. For now we will use gremlin console which also come with janusgraph in the same installing package.\n",
    "\n",
    "In the terminal inside the unzipped directory, issue the following command:\n",
    "```\n",
    "bin/gremlin.sh\n",
    "```\n",
    "\n",
    "This command will start gremlin console. We have to use gremlin language to interact with gremlin server. Issue the following commands inside gremlin console to connect gremlin console to the gremlin server (janusgraph server):\n",
    "```\n",
    ":remote connect tinkerpop.server conf/remote.yaml session\n",
    ":remote console\n",
    "```"
   ]
  },
  {
   "cell_type": "markdown",
   "metadata": {},
   "source": [
    "That's it, that's how we install and configure JanusGraph for our development. We can now use gremlin to interact with JanusGraph. In the next section, we will talk about how we can load a graph from graphml file into JanusGraph."
   ]
  },
  {
   "cell_type": "markdown",
   "metadata": {},
   "source": [
    "## Importing a graph into JanusGraph\n",
    "\n",
    "For this part, we will use  the airport route data set from Kelvin Lawrence’s book [Practical Gremlin](https://github.com/krlawrence/graph). You can download the GraphML file [here](https://github.com/krlawrence/graph/raw/master/sample-data/air-routes.graphml).\n",
    "\n",
    "Dowload the said file into `/tmp` folder for easy reference"
   ]
  },
  {
   "cell_type": "code",
   "execution_count": 8,
   "metadata": {},
   "outputs": [
    {
     "name": "stdout",
     "output_type": "stream",
     "text": [
      "  % Total    % Received % Xferd  Average Speed   Time    Time     Time  Current\n",
      "                                 Dload  Upload   Total   Spent    Left  Speed\n",
      "100   154  100   154    0     0     79      0  0:00:01  0:00:01 --:--:--    79\n"
     ]
    }
   ],
   "source": [
    "!curl -o /tmp/air-routes.graphml https://github.com/krlawrence/graph/raw/master/sample-data/air-routes.graphml"
   ]
  },
  {
   "cell_type": "markdown",
   "metadata": {},
   "source": [
    "In gremlin console, which is connected to the gremlin server, issue the following commands to create a Configuration for the graph we are about to load in to our database:\n",
    "```\n",
    "map = new HashMap<String, Object>();\n",
    "map.put(\"storage.backend\", \"cql\");\n",
    "map.put(\"storage.hostname\", \"127.0.0.1\");\n",
    "map.put(\"graph.graphname\", \"airroutes\");\n",
    "ConfiguredGraphFactory.createConfiguration(new MapConfiguration(map));\n",
    "\n",
    "graph=ConfiguredGraphFactory.open(\"airroutes\");\n",
    "```\n",
    "\n",
    "We basically create a graph named \"airroutes\" which will be store using cql storage backend (an adapter for Cassandra, the old and soon will be deprecated one is `cassandrathrift` which we don't use here) at the local address (127.0.0.1).\n",
    "\n",
    "With the graph created, we can load the content of the graph from the downloaded graphml file into janusgraph. To do so, issue the following in the gremlin console:\n",
    "```\n",
    "graph.io(graphml()).readGraph('/tmp/air-routes.graphml')\n",
    "graph.tx().commit()\n",
    "```\n",
    "\n",
    "To get a list of graphs we have created use the command below:\n",
    "\n",
    "```\n",
    "gremlin> ConfiguredGraphFactory.getGraphNames()\n",
    "==>airroutes\n",
    "```\n",
    "\n",
    "Now we have a graph named \"airroutes\" in our graph database. Next time after connecting to the gremlin server we just need to issue the following command to open the \"airroutes\" graph:\n",
    "\n",
    "```\n",
    "gremlin> graph = ConfiguredGraphFactory.open('airroutes')\n",
    "==>standardjanusgraph[cassandrathrift:[127.0.0.1]]\n",
    "```\n",
    "\n",
    "Let's try doing some trarvese on the graph:\n",
    "\n",
    "```\n",
    "gremlin> g = graph.traversal()\n",
    "==>graphtraversalsource[standardjanusgraph[cassandrathrift:[127.0.0.1]], standard]\n",
    "gremlin> g.V().values('code').count()\n",
    "==>3619\n",
    "gremlin> departure_airport=\"SFO\"\n",
    "==>SFO\n",
    "gremlin> arrival_airport=\"JFK\"\n",
    "==>JFK\n",
    "gremlin> g.V().has('code', departure_airport).repeat(out('route').simplePath()).times(2).has('code', arrival_airport).path().by('code').limit(5)\n",
    "==>[SFO, ATL, JFK]\n",
    "==>[SFO, DFW, JFK]\n",
    "==>[SFO, DCA, JFK]\n",
    "==>[SFO, TPA, JFK]\n",
    "==>[SFO, LGB, JFK]\n",
    "```"
   ]
  },
  {
   "cell_type": "markdown",
   "metadata": {},
   "source": [
    "## Connect to Gremlin server using python\n",
    "\n",
    "Gremlin server doesn't support python out-of-the-box, we need to install gremlin-python for gremlin server. Please install the compatible version with the version of janusgraph that you are using. For JanusGraph 0.4.0 we have:\n",
    "\n",
    "**Tested Compatibility:**\n",
    "- Apache Cassandra 2.2.10, 3.0.14, 3.11.0\n",
    "- Apache HBase 1.2.6, 1.3.1, 1.4.10, 2.1.5\n",
    "- Google Bigtable 1.3.0, 1.4.0, 1.5.0, 1.6.0, 1.7.0, 1.8.0, 1.9.0, 1.10.0, 1.11.0\n",
    "- Oracle BerkeleyJE 7.5.11\n",
    "- Elasticsearch 5.6.14, 6.0.1, 6.6.0\n",
    "- Apache Lucene 7.0.0\n",
    "- Apache Solr 7.0.0\n",
    "- Apache TinkerPop 3.4.1\n",
    "- Java 1.8\n",
    "\n",
    "So we will need gremlin-python version 3.4.1, the same with the version of TinkerPop"
   ]
  },
  {
   "cell_type": "code",
   "execution_count": null,
   "metadata": {},
   "outputs": [],
   "source": [
    "!bin/gremlin-server.sh install org.apache.tinkerpop gremlin-python 3.4.1"
   ]
  },
  {
   "cell_type": "markdown",
   "metadata": {},
   "source": [
    "We also need a pip package named `gremlinpython` that provides Python APIs for us to access the gremlin server."
   ]
  },
  {
   "cell_type": "code",
   "execution_count": 25,
   "metadata": {},
   "outputs": [
    {
     "name": "stdout",
     "output_type": "stream",
     "text": [
      "Requirement already satisfied: gremlinpython==3.4.1 in /Volumes/Data/ethan/.env_tf20_p37/lib/python3.7/site-packages (3.4.1)\n",
      "Requirement already satisfied: aenum>=1.4.5 in /Volumes/Data/ethan/.env_tf20_p37/lib/python3.7/site-packages (from gremlinpython==3.4.1) (2.2.1)\n",
      "Requirement already satisfied: isodate>=0.6.0 in /Volumes/Data/ethan/.env_tf20_p37/lib/python3.7/site-packages (from gremlinpython==3.4.1) (0.6.0)\n",
      "Collecting tornado<5.0,>=4.4.1 (from gremlinpython==3.4.1)\n",
      "Requirement already satisfied: six>=1.10.0 in /Volumes/Data/ethan/.env_tf20_p37/lib/python3.7/site-packages (from gremlinpython==3.4.1) (1.12.0)\n",
      "\u001b[31mERROR: notebook 6.0.1 has requirement tornado>=5.0, but you'll have tornado 4.5.3 which is incompatible.\u001b[0m\n",
      "Installing collected packages: tornado\n",
      "  Found existing installation: tornado 6.0.3\n",
      "    Uninstalling tornado-6.0.3:\n",
      "      Successfully uninstalled tornado-6.0.3\n",
      "Successfully installed tornado-4.5.3\n"
     ]
    }
   ],
   "source": [
    "!pip install gremlinpython==3.4.1"
   ]
  },
  {
   "cell_type": "markdown",
   "metadata": {},
   "source": [
    "**Note that there's some problem with tornado version. If we use tornado version 5.0 or newer, we can not run gremlinpython in jupyter notebook. But if we don't use the newest version of tornado, jupyter notebook might not run properly, so becarefull with this.**"
   ]
  },
  {
   "cell_type": "markdown",
   "metadata": {},
   "source": [
    "We also need to chage some configuration of the gremlin server to enable us to access it from gremlinpython.\n",
    "\n",
    "First we need to create a groovy script which will be evaluated when the gremlin server starts."
   ]
  },
  {
   "cell_type": "code",
   "execution_count": 14,
   "metadata": {},
   "outputs": [
    {
     "name": "stdout",
     "output_type": "stream",
     "text": [
      "Writing scripts/init.groovy\n"
     ]
    }
   ],
   "source": [
    "%%writefile scripts/init.groovy\n",
    "def globals = [:]\n",
    "\n",
    "graph = ConfiguredGraphFactory.open(\"airroutes\")\n",
    "\n",
    "globals << [g : graph.traversal()]"
   ]
  },
  {
   "cell_type": "markdown",
   "metadata": {},
   "source": [
    "We basically tell the gremlin server that when it starts to run, it will open the graph named `airroutes` and create a traversal named `g` which can be accessed globally. To tell the gremlin server about this file we need to alter the configuration file a little bit."
   ]
  },
  {
   "cell_type": "code",
   "execution_count": 22,
   "metadata": {},
   "outputs": [],
   "source": [
    "!sed -i -e 's/files: \\[\\]/files: \\[scripts\\/init.groovy\\]/g' conf/gremlin-server/gremlin-server.yaml"
   ]
  },
  {
   "cell_type": "markdown",
   "metadata": {},
   "source": [
    "*Please note that after this step, if `airroutes` graph does not exist in the database, gremlin server cannot start properly*"
   ]
  },
  {
   "cell_type": "markdown",
   "metadata": {},
   "source": [
    "Restart the gremlin server and try running the following python code:"
   ]
  },
  {
   "cell_type": "code",
   "execution_count": 1,
   "metadata": {},
   "outputs": [],
   "source": [
    "from gremlin_python.structure.graph import Graph\n",
    "from gremlin_python.driver.driver_remote_connection import DriverRemoteConnection\n",
    "\n",
    "from gremlin_python.process.graph_traversal import __\n",
    "from gremlin_python.process.strategies import *\n",
    "from gremlin_python.process.traversal import Barrier\n",
    "from gremlin_python.process.traversal import Cardinality\n",
    "from gremlin_python.process.traversal import Column\n",
    "from gremlin_python.process.traversal import Direction\n",
    "from gremlin_python.process.traversal import Operator\n",
    "from gremlin_python.process.traversal import Order\n",
    "from gremlin_python.process.traversal import P\n",
    "from gremlin_python.process.traversal import Pick\n",
    "from gremlin_python.process.traversal import Pop\n",
    "from gremlin_python.process.traversal import Scope\n",
    "from gremlin_python.process.traversal import T\n",
    "\n"
   ]
  },
  {
   "cell_type": "code",
   "execution_count": 3,
   "metadata": {},
   "outputs": [
    {
     "data": {
      "text/plain": [
       "28792"
      ]
     },
     "execution_count": 3,
     "metadata": {},
     "output_type": "execute_result"
    }
   ],
   "source": [
    "graph = Graph()\n",
    "g = graph.traversal().withRemote(DriverRemoteConnection('ws://localhost:8182/gremlin','g'))\n",
    "\n",
    "hkVertexId = g.V().has('airport', 'code', 'HKG').id().next()\n",
    "hkVertexId"
   ]
  },
  {
   "cell_type": "markdown",
   "metadata": {},
   "source": [
    "That's it, we can now interact with gremlin server using python and do some query with it. To learn more about gremlin and janus graph in python you can check [this github repository](https://github.com/AndrewChau/learn-gremlin-jupyter-notebook) out."
   ]
  },
  {
   "cell_type": "code",
   "execution_count": null,
   "metadata": {},
   "outputs": [],
   "source": []
  }
 ],
 "metadata": {
  "kernelspec": {
   "display_name": "tf20",
   "language": "python",
   "name": "tf20"
  },
  "language_info": {
   "codemirror_mode": {
    "name": "ipython",
    "version": 3
   },
   "file_extension": ".py",
   "mimetype": "text/x-python",
   "name": "python",
   "nbconvert_exporter": "python",
   "pygments_lexer": "ipython3",
   "version": "3.7.4"
  },
  "nikola": {
   "category": "",
   "date": "2019-10-10 11:22:51 UTC+08:00",
   "description": "",
   "link": "",
   "slug": "getting-started-with-janusgraph-and-python",
   "tags": "",
   "title": "Getting Started with JanusGraph and Python",
   "type": "text"
  },
  "toc": {
   "base_numbering": 1,
   "nav_menu": {},
   "number_sections": false,
   "sideBar": false,
   "skip_h1_title": false,
   "title_cell": "Table of Contents",
   "title_sidebar": "Contents",
   "toc_cell": false,
   "toc_position": {},
   "toc_section_display": false,
   "toc_window_display": false
  }
 },
 "nbformat": 4,
 "nbformat_minor": 2
}
